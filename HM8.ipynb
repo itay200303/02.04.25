{
 "cells": [
  {
   "cell_type": "code",
   "execution_count": 1,
   "id": "fa01eacd-3061-4e35-9223-9ac63a69261a",
   "metadata": {},
   "outputs": [],
   "source": [
    "import numpy as np\n",
    "from IPython.display import display\n",
    "import pandas as pd"
   ]
  },
  {
   "cell_type": "code",
   "execution_count": 7,
   "id": "012ad9cc-4282-4f2e-9d87-cfbe18114e1d",
   "metadata": {},
   "outputs": [
    {
     "name": "stdout",
     "output_type": "stream",
     "text": [
      "<class 'pandas.core.frame.DataFrame'>\n",
      "RangeIndex: 36 entries, 0 to 35\n",
      "Data columns (total 7 columns):\n",
      " #   Column        Non-Null Count  Dtype \n",
      "---  ------        --------------  ----- \n",
      " 0   Country       36 non-null     object\n",
      " 1   Sport Type    36 non-null     object\n",
      " 2   Athlete Name  36 non-null     object\n",
      " 3   Height(cm)    36 non-null     int64 \n",
      " 4   Weight(kg)    36 non-null     int64 \n",
      " 5   Wins          36 non-null     int64 \n",
      " 6   Olympic Date  36 non-null     object\n",
      "dtypes: int64(3), object(4)\n",
      "memory usage: 2.1+ KB\n"
     ]
    },
    {
     "data": {
      "text/plain": [
       "None"
      ]
     },
     "metadata": {},
     "output_type": "display_data"
    },
    {
     "data": {
      "text/html": [
       "<div>\n",
       "<style scoped>\n",
       "    .dataframe tbody tr th:only-of-type {\n",
       "        vertical-align: middle;\n",
       "    }\n",
       "\n",
       "    .dataframe tbody tr th {\n",
       "        vertical-align: top;\n",
       "    }\n",
       "\n",
       "    .dataframe thead th {\n",
       "        text-align: right;\n",
       "    }\n",
       "</style>\n",
       "<table border=\"1\" class=\"dataframe\">\n",
       "  <thead>\n",
       "    <tr style=\"text-align: right;\">\n",
       "      <th></th>\n",
       "      <th>count</th>\n",
       "      <th>mean</th>\n",
       "      <th>std</th>\n",
       "      <th>min</th>\n",
       "      <th>25%</th>\n",
       "      <th>50%</th>\n",
       "      <th>75%</th>\n",
       "      <th>max</th>\n",
       "    </tr>\n",
       "  </thead>\n",
       "  <tbody>\n",
       "    <tr>\n",
       "      <th>Height(cm)</th>\n",
       "      <td>36.0</td>\n",
       "      <td>181.333333</td>\n",
       "      <td>16.568473</td>\n",
       "      <td>142.0</td>\n",
       "      <td>173.00</td>\n",
       "      <td>184.5</td>\n",
       "      <td>191.50</td>\n",
       "      <td>216.0</td>\n",
       "    </tr>\n",
       "    <tr>\n",
       "      <th>Weight(kg)</th>\n",
       "      <td>36.0</td>\n",
       "      <td>76.555556</td>\n",
       "      <td>20.680487</td>\n",
       "      <td>45.0</td>\n",
       "      <td>64.25</td>\n",
       "      <td>72.0</td>\n",
       "      <td>85.75</td>\n",
       "      <td>147.0</td>\n",
       "    </tr>\n",
       "    <tr>\n",
       "      <th>Wins</th>\n",
       "      <td>36.0</td>\n",
       "      <td>3.388889</td>\n",
       "      <td>1.102666</td>\n",
       "      <td>1.0</td>\n",
       "      <td>3.00</td>\n",
       "      <td>3.0</td>\n",
       "      <td>4.00</td>\n",
       "      <td>6.0</td>\n",
       "    </tr>\n",
       "  </tbody>\n",
       "</table>\n",
       "</div>"
      ],
      "text/plain": [
       "            count        mean        std    min     25%    50%     75%    max\n",
       "Height(cm)   36.0  181.333333  16.568473  142.0  173.00  184.5  191.50  216.0\n",
       "Weight(kg)   36.0   76.555556  20.680487   45.0   64.25   72.0   85.75  147.0\n",
       "Wins         36.0    3.388889   1.102666    1.0    3.00    3.0    4.00    6.0"
      ]
     },
     "metadata": {},
     "output_type": "display_data"
    }
   ],
   "source": [
    "df = pd.read_csv(\"sport_athletes.csv\")\n",
    "display(df.info())\n",
    "display(df.describe().T)"
   ]
  },
  {
   "cell_type": "code",
   "execution_count": 55,
   "id": "d1f168eb-6588-480e-bde6-3cdd7b4eb845",
   "metadata": {},
   "outputs": [
    {
     "name": "stdout",
     "output_type": "stream",
     "text": [
      "        Sport Type  weight_max  height_max  wins_max\n",
      "0       Basketball          96         216         3\n",
      "1          Cycling          68         186         5\n",
      "2       Gymnastics          45         160         5\n",
      "3           Soccer          57         187         3\n",
      "4         Swimming          58         200         5\n",
      "5           Tennis          70         188         4\n",
      "6  Track and Field          57         195         6\n"
     ]
    }
   ],
   "source": [
    "df = pd.read_csv(\"sport_athletes.csv\")\n",
    "sport_stats = df.groupby('Sport Type').agg(\n",
    "    weight_min=('Weight(kg)', 'min'),\n",
    "    height_max=('Height(cm)', 'max'),\n",
    "    wins_max=('Wins', 'max')\n",
    ").reset_index()\n",
    "sport_stats = sport_stats.rename(columns={\n",
    "    'weight_min': 'weight_max', \n",
    "    'height_max': 'height_max',\n",
    "    'wins_max': 'wins_max'\n",
    "})\n",
    "print(sport_stats)"
   ]
  },
  {
   "cell_type": "code",
   "execution_count": 67,
   "id": "9d5d69a0-ef95-42e3-80f7-42a6ddee41c7",
   "metadata": {},
   "outputs": [
    {
     "name": "stdout",
     "output_type": "stream",
     "text": [
      "         Sport Type       Athlete Name  Height(cm)\n",
      "0        Basketball   Shaquille O'Neal         216\n",
      "1        Basketball       Kevin Durant         208\n",
      "2           Cycling      Primoz Roglic         186\n",
      "3           Cycling      Tadej Pogacar         184\n",
      "4        Gymnastics        Aly Raisman         160\n",
      "5        Gymnastics      Shawn Johnson         157\n",
      "6            Soccer  Cristiano Ronaldo         187\n",
      "7            Soccer    Zinedine Zidane         185\n",
      "8          Swimming           Sun Yang         200\n",
      "9          Swimming         Ian Thorpe         196\n",
      "10           Tennis     Novak Djokovic         188\n",
      "11           Tennis      Roger Federer         185\n",
      "12  Track and Field         Usain Bolt         195\n",
      "13  Track and Field         Carl Lewis         188\n"
     ]
    }
   ],
   "source": [
    "top_athletes = df_sorted.groupby('Sport Type').head(2).reset_index(drop=True)\n",
    "print(top_athletes[['Sport Type', 'Athlete Name', 'Height(cm)']])"
   ]
  },
  {
   "cell_type": "code",
   "execution_count": null,
   "id": "a76ec9b9-7b07-47c7-bd2a-764509a09a7b",
   "metadata": {},
   "outputs": [],
   "source": [
    "new_rows = pd.DataFrame({\n",
    "    'Country': ['Canada', 'USA'],\n",
    "    'Sport Type': ['Hockey', 'Skiing'],\n",
    "    'Athlete Name': ['Wayne Gretzky', 'Lindsey Vonn'],\n",
    "    'Height(cm)': [183, 172],\n",
    "    'Weight(kg)': [84, 68],\n",
    "    'Wins': [3, 4],\n",
    "    'Olympic Date': ['01/02/2002', '12/02/2010']\n",
    "df_combined = pd.concat([df, new_rows], ignore_index=True)"
   ]
  },
  {
   "cell_type": "code",
   "execution_count": null,
   "id": "f847e98a-f008-479d-b43c-953d756504ea",
   "metadata": {},
   "outputs": [],
   "source": []
  }
 ],
 "metadata": {
  "kernelspec": {
   "display_name": "Python [conda env:base] *",
   "language": "python",
   "name": "conda-base-py"
  },
  "language_info": {
   "codemirror_mode": {
    "name": "ipython",
    "version": 3
   },
   "file_extension": ".py",
   "mimetype": "text/x-python",
   "name": "python",
   "nbconvert_exporter": "python",
   "pygments_lexer": "ipython3",
   "version": "3.12.7"
  }
 },
 "nbformat": 4,
 "nbformat_minor": 5
}
